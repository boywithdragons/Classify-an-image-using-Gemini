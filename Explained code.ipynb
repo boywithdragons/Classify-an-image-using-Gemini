{
  "cells": [
    {
      "cell_type": "code",
      "source": [
        "#@title ##Upgrading the Generative Ai liberary to its latest model.\n",
        "!pip install google-generativeai --upgrade"
      ],
      "metadata": {
        "id": "YRIw36p1JusT"
      },
      "execution_count": null,
      "outputs": []
    },
    {
      "cell_type": "markdown",
      "source": [
        "# Configuring the Gemini API key"
      ],
      "metadata": {
        "id": "i98-aRHxKJmK"
      }
    },
    {
      "cell_type": "code",
      "source": [
        "#@title Importing the Google Gemini AI Software Development Kit __(google.generativeai)__ and assigning it an alias __genai__\n",
        "\n",
        "import google.generativeai as genai"
      ],
      "metadata": {
        "cellView": "form",
        "id": "YhnJYgueJup1"
      },
      "execution_count": null,
      "outputs": []
    },
    {
      "cell_type": "code",
      "source": [
        "#@title Importing the <b>userdate</b> from __google.colob__, which is used for handing user specifi data, Such as storing and retrieving the API keys securely in colab.\n",
        "from google.colab import userdata"
      ],
      "metadata": {
        "cellView": "form",
        "id": "4zqX8dVtJuna"
      },
      "execution_count": null,
      "outputs": []
    },
    {
      "cell_type": "code",
      "source": [
        "#@title Importing __types__ from __google.genereativeai__ which will handles __data types__ for the API.\n",
        "from google.generativeai import types"
      ],
      "metadata": {
        "cellView": "form",
        "id": "xB3u6SEMJukv"
      },
      "execution_count": null,
      "outputs": []
    },
    {
      "cell_type": "code",
      "source": [
        "#@title Defining the API key name __GOOGLE_API_KEY__ which is being stored in the variable.\n",
        "#@markdown ######API keys are stored securely. This string __(GOOGLE_API_KEY)__ acts as a reference name to retrieve the actual API key from the source.\n",
        "GEMINI_API_NAME = \"GOOGLE_API_KEY\" #@param{type: \"string\"}\n",
        "#@markdown ###### Paramter __#@param{type: \"string\"}__ is another Colob-formatted comment used to create an interatve input field in the notebook. Which is as shown above.\n",
        "#@markdown ###### __type: \"string\"__ is used so that string value can be used for understanding"
      ],
      "metadata": {
        "cellView": "form",
        "id": "X7BpL4neJuiF"
      },
      "execution_count": null,
      "outputs": []
    },
    {
      "cell_type": "code",
      "source": [
        "\n",
        "# This is the name used to store in colab environment.\n",
        "\n",
        "try:\n",
        "  GOOGLE_API_KEY = userdata.get(GEMINI_API_NAME)# Retrieves the API key form the stored secret.\n",
        "  genai.configure(api_key=GOOGLE_API_KEY)\n"
      ],
      "metadata": {
        "id": "QjrKeOUwJufa"
      },
      "execution_count": null,
      "outputs": []
    },
    {
      "cell_type": "code",
      "source": [
        "except userdata.SecretNotFoundError as e:\n",
        "  print(f\"Secert not fount\\n\\nThis expects you to create a secret named {GEMINI_API_NAME} in Colab\\n\\nVisit https://makesuite.google.com/app/apikey to create and API key\\n\\nStore that is the secrets section on the left side of the notebook (key icon)\\n\\nName the secret{GEMINI_API_NAME}\")\n",
        "  raise e"
      ],
      "metadata": {
        "id": "RI9urIEsJuci"
      },
      "execution_count": null,
      "outputs": []
    },
    {
      "cell_type": "code",
      "source": [
        "\n",
        "except userdata.NotebookAccessError as e:\n",
        "  print(f\"You need to grant this notebook access to the {GEMINI_API_NAME} secret in order for the notebook to acces Gemini on your behalf.\")\n"
      ],
      "metadata": {
        "id": "yFyZGmG_JuZ3"
      },
      "execution_count": null,
      "outputs": []
    },
    {
      "cell_type": "code",
      "source": [
        "except Exception as e:\n",
        "  #unknown error\n",
        "  print(f\"There was an uknow error. Ensure you have a secret {GEMINI_API_NAME} stored in Colab and it's a vaild key from https://makersuite.google.com/app/apikey\")\n",
        "  raise e\n"
      ],
      "metadata": {
        "id": "1VZTMdPUJuXJ"
      },
      "execution_count": null,
      "outputs": []
    },
    {
      "cell_type": "code",
      "source": [
        "\n",
        "model = genai.GenerativeModel(\"gemini-pro-vision\")"
      ],
      "metadata": {
        "id": "C_vYA7OKJuUT"
      },
      "execution_count": null,
      "outputs": []
    },
    {
      "cell_type": "code",
      "source": [],
      "metadata": {
        "id": "Pm6lB_8LJuR3"
      },
      "execution_count": null,
      "outputs": []
    },
    {
      "cell_type": "code",
      "source": [],
      "metadata": {
        "id": "vswIWFa9JuPU"
      },
      "execution_count": null,
      "outputs": []
    },
    {
      "cell_type": "code",
      "source": [],
      "metadata": {
        "id": "gFvilTe9JuMv"
      },
      "execution_count": null,
      "outputs": []
    },
    {
      "cell_type": "code",
      "source": [],
      "metadata": {
        "id": "9tIYzv4xJuJ8"
      },
      "execution_count": null,
      "outputs": []
    },
    {
      "cell_type": "code",
      "source": [],
      "metadata": {
        "id": "mGYAolwlJuH8"
      },
      "execution_count": null,
      "outputs": []
    },
    {
      "cell_type": "code",
      "source": [],
      "metadata": {
        "id": "DdfiDYX6JuEx"
      },
      "execution_count": null,
      "outputs": []
    }
  ],
  "metadata": {
    "colab": {
      "provenance": []
    }
  },
  "nbformat": 4,
  "nbformat_minor": 0
}