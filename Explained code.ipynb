{
  "cells": [
    {
      "cell_type": "markdown",
      "source": [
        "# __Upgrading the Generative Ai liberary to its latest model__"
      ],
      "metadata": {
        "id": "BZD0vYz9qhuc"
      }
    },
    {
      "cell_type": "code",
      "source": [
        "!pip install google-generativeai --upgrade"
      ],
      "metadata": {
        "id": "YRIw36p1JusT"
      },
      "execution_count": null,
      "outputs": []
    },
    {
      "cell_type": "markdown",
      "source": [
        "# __Configuring the Gemini API key__"
      ],
      "metadata": {
        "id": "w1CWVBKDLqNp"
      }
    },
    {
      "cell_type": "code",
      "source": [
        "#@title Importing the Google Gemini AI Software Development Kit __(google.generativeai)__ and assigning it an alias __genai__\n",
        "\n",
        "import google.generativeai as genai"
      ],
      "metadata": {
        "cellView": "form",
        "id": "YhnJYgueJup1"
      },
      "execution_count": null,
      "outputs": []
    },
    {
      "cell_type": "code",
      "source": [
        "#@title Importing the <b>userdate</b> from __google.colob__, which is used for handing user specifi data, Such as storing and retrieving the API keys securely in colab.\n",
        "from google.colab import userdata"
      ],
      "metadata": {
        "cellView": "form",
        "id": "4zqX8dVtJuna"
      },
      "execution_count": null,
      "outputs": []
    },
    {
      "cell_type": "code",
      "source": [
        "#@title Importing __types__ from __google.genereativeai__ which will handles __data types__ for the API.\n",
        "from google.generativeai import types"
      ],
      "metadata": {
        "cellView": "form",
        "id": "xB3u6SEMJukv"
      },
      "execution_count": null,
      "outputs": []
    },
    {
      "cell_type": "code",
      "source": [
        "#@title Defining the API key name __GOOGLE_API_KEY__ which is being stored in the variable.\n",
        "#@markdown ######API keys are stored securely. This string __(GOOGLE_API_KEY)__ acts as a reference name to retrieve the actual API key from the source.\n",
        "GEMINI_API_NAME = \"GOOGLE_API_KEY\" #@param{type: \"string\"}\n",
        "# @markdown __#@param{type: \"string\"}__ is another Colob-formatted comment used to create an interatve input field in the notebook. Which is as shown above.\n",
        "# @markdown ###### __type: \"string\"__ is used so that string value can be used for understanding\n"
      ],
      "metadata": {
        "cellView": "form",
        "id": "X7BpL4neJuiF"
      },
      "execution_count": null,
      "outputs": []
    },
    {
      "cell_type": "code",
      "source": [
        "#@title Retrieving and configure the API key.\n",
        "#@markdown ##### __userdata.get(GEMINI_API_NAME)__ fetches the __API key__ stored in __Google colab secrects__\n",
        "#@markdown ##### __genai.configure(api_key=GOOGLE_API_KEY)__ passes the key to the __Google Gemini API__, allowing the script to make requests.\n",
        "#@markdown ##### API __(Generative Language API key)__ has been taken from https://console.cloud.google.com/apis/credentials?project=gen-lang-client-0663598904 and stored in secrets in the colab.\n",
        "\n",
        "try:\n",
        "  GOOGLE_API_KEY = userdata.get(GEMINI_API_NAME)\n",
        "  genai.configure(api_key=GOOGLE_API_KEY)\n"
      ],
      "metadata": {
        "id": "QjrKeOUwJufa",
        "cellView": "form"
      },
      "execution_count": null,
      "outputs": []
    },
    {
      "cell_type": "code",
      "source": [
        "#@title Handling errors if API key is missing or invalid.\n",
        "#@markdown ###### If API key does not exist, prints instruction on hwo to get an API key.\n",
        "#@markdown ###### Ask the user to store the API key properly in Google Colab\n",
        "#@markdown ##### Raising an exception using __raise e__.\n",
        "\n",
        "\n",
        "except userdata.SecretNotFoundError as e:\n",
        "  print(f\"Secert not fount\\n\\nThis expects you to create a secret named {GEMINI_API_NAME} in Colab\\n\\nVisit https://makesuite.google.com/app/apikey to create and API key\\n\\nStore that is the secrets section on the left side of the notebook (key icon)\\n\\nName the secret{GEMINI_API_NAME}\")\n",
        "  raise e"
      ],
      "metadata": {
        "id": "RI9urIEsJuci",
        "cellView": "form"
      },
      "execution_count": null,
      "outputs": []
    },
    {
      "cell_type": "code",
      "source": [
        "#@title Handling access permission issues.\n",
        "#@markdown ##### Code for showing error if colab does not have permission to access stored secrets to get the API.\n",
        "#@markdown ##### If this will happens user need to give the access manully by going to secrets > Add new secret.\n",
        "\n",
        "\n",
        "except userdata.NotebookAccessError as e:\n",
        "  print(f\"You need to grant this notebook access to the {GEMINI_API_NAME} secret in order for the notebook to acces Gemini on your behalf.\")\n"
      ],
      "metadata": {
        "id": "yFyZGmG_JuZ3",
        "cellView": "form"
      },
      "execution_count": null,
      "outputs": []
    },
    {
      "cell_type": "code",
      "source": [
        "#@title Handling any other Unknown errors.\n",
        "#@markdown ##### Error message will suggest to chcek and validate the stored API key and if needed need to re-store the key.\n",
        "#@markdown ##### Errors might be an APU key is incorrectly formatted, network issue or any unexpected problem.\n",
        "\n",
        "except Exception as e:\n",
        "  #unknown error\n",
        "  print(f\"There was an uknow error. Ensure you have a secret {GEMINI_API_NAME} stored in Colab and it's a vaild key from https://makersuite.google.com/app/apikey\")\n",
        "  raise e\n"
      ],
      "metadata": {
        "id": "1VZTMdPUJuXJ",
        "cellView": "form"
      },
      "execution_count": null,
      "outputs": []
    },
    {
      "cell_type": "code",
      "source": [
        "#@title Initializeing the Gemini Model\n",
        "#@markdown ###### Loaded __gemini-pro-vision__ whichs supports text generation, image and text input processing.\n",
        "#@markdown ###### Now the model has been ready to process the requests.\n",
        "model = genai.GenerativeModel(\"gemini-pro-vision\")"
      ],
      "metadata": {
        "id": "C_vYA7OKJuUT",
        "cellView": "form"
      },
      "execution_count": null,
      "outputs": []
    },
    {
      "cell_type": "markdown",
      "source": [
        "# __Demo image analysis__\n",
        "\n"
      ],
      "metadata": {
        "id": "VENkEsoPFdCc"
      }
    },
    {
      "cell_type": "code",
      "source": [
        "#@title Improting required Libraries.\n",
        "#@markdown ###### __PIL.Image__ is used for handling images.\n",
        "#@markdown ###### __base64__ encodes the image in Base64 formate for embedding in HTML.\n",
        "#@markdown ###### __io__ helps handling image data in memory\n",
        "import PIL.Image, base64, io\n",
        "#@markdown ###### __IPython.display, HTML, display__ used to render the image and text description in an HTML format.\n",
        "from IPython.display import HTML, display"
      ],
      "metadata": {
        "id": "Pm6lB_8LJuR3",
        "cellView": "form"
      },
      "execution_count": null,
      "outputs": []
    },
    {
      "cell_type": "code",
      "source": [
        "#@title Download the Image form a URL\n",
        "#@markdown ######__!curl__ runs a shell command inside the notebook. It also fetches image from the internet dynamically insted of using local files.\n",
        "#@markdown ######__-o image.jpg__ saves the downloaded file as __\"image.jpg\"__\n",
        "\n",
        "!curl -o image.jpg https://i.pinimg.com/originals/c5/8d/6d/c58d6d66c80ab56abbbbef8cdcd382f5.jpg"
      ],
      "metadata": {
        "cellView": "form",
        "id": "Z-zKtHOPI04O"
      },
      "execution_count": null,
      "outputs": []
    },
    {
      "cell_type": "code",
      "source": [
        "#@title Define Image Path\n",
        "#@markdown Stores the image filename in a variable __(imag_path)__\n",
        "img_path = \"image.jpg\""
      ],
      "metadata": {
        "cellView": "form",
        "id": "3ZieUm_XI005"
      },
      "execution_count": null,
      "outputs": []
    },
    {
      "cell_type": "code",
      "source": [
        "#@title Opening the Image path\n",
        "#@markdown It opens the downloaded image using __Pillow(PIL)__ and handles the further processing or manipulation.\n",
        "img =PIL.Image.open(img_path)"
      ],
      "metadata": {
        "cellView": "form",
        "id": "TEbJYtv7I0yo"
      },
      "execution_count": null,
      "outputs": []
    },
    {
      "cell_type": "code",
      "source": [
        "#@title Uploading Image to Google Gemini AI\n",
        "image_part = genai.upload_file(img_path)\n",
        "#@markdown __genai.upload_file(img_path)__ converts the image into a format that Gemini can process."
      ],
      "metadata": {
        "id": "vswIWFa9JuPU",
        "cellView": "form"
      },
      "execution_count": null,
      "outputs": []
    },
    {
      "cell_type": "code",
      "source": [
        "#@title Initializeing gemini AI Model.\n",
        "#@markdown ##### __GenerativeModel__ is used to load the __gemini-1.5-flash__ model.\n",
        "model = genai.GenerativeModel(\"gemini-1.5-flash\")"
      ],
      "metadata": {
        "id": "gFvilTe9JuMv",
        "cellView": "form"
      },
      "execution_count": null,
      "outputs": []
    },
    {
      "cell_type": "code",
      "source": [
        "#@title Generate Description of the Image.\n",
        "#@markdown Sends the uploaded image to Gemini with the prompt __\"Describe the Image\"__.\n",
        "response = model.generate_content(\n",
        "    [image_part, (\"Describe the Image.\")])"
      ],
      "metadata": {
        "id": "9tIYzv4xJuJ8",
        "cellView": "form"
      },
      "execution_count": null,
      "outputs": []
    },
    {
      "cell_type": "code",
      "source": [
        "#@title Convert the image to Base64 for embedding in HTML\n",
        "buffered = io.BytesIO()\n",
        "#@markdown ######__buffered = io.BytesIO()__ creates an in-memory temporary storage(buffer).\n",
        "img.save(buffered, format=\"JPEG\")\n",
        "#@markdown ######__img.save(buffered, format=\"JPEG\")__ saves the image in the buffer without writing to disk.\n",
        "img_str = base64.b64encode(buffered.getvalue()).decode()\n",
        "#@markdown ###### __Base64__ embeds images directly in HTML without requiring an external file link.\n",
        "#@markdown ###### __base64.b64encode().decode()__ converts the binary data to Base64 format\n",
        "#@markdown ###### __buffered.getvalue()__ extracts the image as binary data."
      ],
      "metadata": {
        "id": "mGYAolwlJuH8",
        "cellView": "form"
      },
      "execution_count": null,
      "outputs": []
    },
    {
      "cell_type": "code",
      "source": [
        "#@title Constuct a table to render the view\n",
        "#@markdown Created a HTML table to display. __The image__ and __The AI-generated description__\n",
        "\n",
        "table_html = f\"\"\"\n",
        "<table>\n",
        "<tr>\n",
        "    <td><img src= 'data.image/jpeg;based64,{img_str}' style='width:500px; height:auto;'></td>\n",
        "</tr>\n",
        "<tr>\n",
        "    <td style='vertical-align: bottom;'>{response.text}</td>\n",
        "</tr>\n",
        "</table>\n",
        "\"\"\""
      ],
      "metadata": {
        "id": "DdfiDYX6JuEx",
        "cellView": "form"
      },
      "execution_count": null,
      "outputs": []
    },
    {
      "cell_type": "code",
      "source": [
        "#@title Display the table\n",
        "#@markdown It coverts the string to an __HTML object__\n",
        "display(HTML(table_html))"
      ],
      "metadata": {
        "cellView": "form",
        "id": "wNFRWPMgLRWe"
      },
      "execution_count": null,
      "outputs": []
    },
    {
      "cell_type": "markdown",
      "source": [
        "# __Uploading your own image.__"
      ],
      "metadata": {
        "id": "yrxlwzE4Q2OE"
      }
    },
    {
      "cell_type": "code",
      "source": [
        "#@markdown ##### __google.colab__ is a module specifically for Google colab.\n",
        "#@markdown ##### __files__ provides methods for handling file uploads and downloads\n",
        "from google.colab import files\n",
        "#@markdown ##### __uploaded = files.upload()__ opens a file selection dialog in Google colab. The selecte files are uploaded to the colab environment an stored in a dictionary\n",
        "uploaded = files.upload()"
      ],
      "metadata": {
        "id": "Iv5JTgijQIiM"
      },
      "execution_count": null,
      "outputs": []
    },
    {
      "cell_type": "markdown",
      "source": [
        "#__Asking Gemini about the Image__"
      ],
      "metadata": {
        "id": "MXli0Or4R049"
      }
    },
    {
      "cell_type": "code",
      "source": [
        "#@title Now ask gemini about your image\n",
        "#@markdown ##### __PIL.Image.open()__ opens the image using __Python Imaging Libray(PIL)__\n",
        "#@markdown #####__list(uploaded.keys()__gets the names of all uploaded files.\n",
        "#@markdown ##### __list(uploaded.keys())[0]__ get sthe first uploaded file's name.\n",
        "img = PIL.Image.open(list(uploaded.keys())[0])\n"
      ],
      "metadata": {
        "cellView": "form",
        "id": "_89Mrf_bQIet"
      },
      "execution_count": null,
      "outputs": []
    },
    {
      "cell_type": "code",
      "source": [
        "#@title Upload the image file to Gemini AI\n",
        "#@markdown ##### __genai.upload_file()__ sends the image to __Google gemini AI__ for processing\n",
        "image_part = genai.upload_file(list(uploaded.keys())[0])"
      ],
      "metadata": {
        "cellView": "form",
        "id": "YsPDlfORQIby"
      },
      "execution_count": null,
      "outputs": []
    },
    {
      "cell_type": "code",
      "source": [
        "#@title  Generate a Description of the Image\n",
        "#@markdown ###### __model.generate_content()__ is a __Gemini AI call__ that:\n",
        "#@markdown ###### Sends the uploaded image __(image_part)__ to Gemini.\n",
        "#@markdown ###### Provided a prompt asking Gemini to describe the image __(\"Describe the Image\")__\n",
        "#@markdown ###### __Receives a response__ containing the AI generated description.\n",
        "response = model.generate_content([image_part, \"Describe the image\" ])"
      ],
      "metadata": {
        "cellView": "form",
        "id": "AWL_gVAxQIZs"
      },
      "execution_count": null,
      "outputs": []
    },
    {
      "cell_type": "code",
      "source": [
        "#@title Convert the image to Base64 for embedding in HTML\n",
        "\n",
        "#@markdown ###### __io.BytesIO()__ creates an in-memory binary stream (acts like a file but in RAM).\n",
        "buffered = io.BytesIO()\n",
        "#@markdown ###### __img.save(buffered, format=\"JPEG\")__ saves the image in JPEG format.\n",
        "img.save(buffered, format=\"JPEG\")\n",
        "#@markdown ###### __buffered.getvalue()__ gets the binary image data.\n",
        "#@markdown ###### __base64.b64encode(...).decode()__ encodes the image to Base64 format so it can be embedded in HTML.\n",
        "img_str = base64.b64encode(buffered.getvalue()).decode()"
      ],
      "metadata": {
        "cellView": "form",
        "id": "Gxse_LSwQIX9"
      },
      "execution_count": null,
      "outputs": []
    },
    {
      "cell_type": "code",
      "source": [
        "#@title Construct a table.\n",
        "#@markdown Created an HTML table that displays the __image(Base64-encoded)__ and the __AI-gernerated description__ below the image.\n",
        "table_html = f\"\"\"\n",
        "<table>\n",
        "<tr>\n",
        "    <td><img scr = 'date:image/jpeg;base64,{img_str}' style='width 500px; height:auto:'></td>\n",
        "</tr>\n",
        "<tr>\n",
        "    <td style = 'vertical-align: bottom;'>{response.text}</td>\n",
        "</tr>\n",
        "</table>\n",
        "\"\"\""
      ],
      "metadata": {
        "cellView": "form",
        "id": "MnkK9rDhQIV_"
      },
      "execution_count": null,
      "outputs": []
    },
    {
      "cell_type": "code",
      "source": [
        "#@title Display the table.\n",
        "#@markdown ##### __(HTML(table_html))__ converts the __table_html__ string into an HTML object.\n",
        "#@markdown ##### __display()__ renders and display the image with its __AI-genereated description__.\n",
        "display(HTML(table_html))"
      ],
      "metadata": {
        "cellView": "form",
        "id": "fg_kPkOlQIT5"
      },
      "execution_count": null,
      "outputs": []
    }
  ],
  "metadata": {
    "colab": {
      "provenance": []
    }
  },
  "nbformat": 4,
  "nbformat_minor": 0
}