{
  "cells": [
    {
      "cell_type": "markdown",
      "source": [
        "<b> Use Google's multimodal model Geminin to clasify images </b>\n",
        "\n",
        "Upload your favourite imag and get Gemini to describe the image."
      ],
      "metadata": {
        "id": "k0RgerHk0vdJ"
      }
    },
    {
      "cell_type": "code",
      "source": [
        "#@title Configure Gemini API key\n",
        "\n",
        "#Access your Gemini API key\n",
        "\n",
        "import google.generativeai as genai\n",
        "from google.colob import userdata\n",
        "\n",
        "GEMINI_API_NAME = \"GOOGLE_API_KEY\" #@param{type: \"string\"}\n"
      ],
      "metadata": {
        "id": "y9lAKEyu1J5R"
      },
      "execution_count": null,
      "outputs": []
    },
    {
      "cell_type": "code",
      "source": [],
      "metadata": {
        "id": "U93lldeK2bFk"
      },
      "execution_count": null,
      "outputs": []
    }
  ],
  "metadata": {
    "colab": {
      "provenance": []
    },
    "language_info": {
      "name": "python"
    },
    "kernelspec": {
      "name": "python3",
      "display_name": "Python 3"
    }
  },
  "nbformat": 4,
  "nbformat_minor": 0
}
